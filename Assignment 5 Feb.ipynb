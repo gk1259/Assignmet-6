{
 "cells": [
  {
   "cell_type": "markdown",
   "id": "001f5d58-cc58-4a60-b3e0-48d334175ca3",
   "metadata": {},
   "source": [
    "# 1. Explain Class and Object with respect to Object-Oriented Programming. Give a suitable example."
   ]
  },
  {
   "cell_type": "markdown",
   "id": "bbbac3ec-e47a-49fc-a55f-f3fd0ae34adb",
   "metadata": {},
   "source": [
    "Ans. \n",
    "\n",
    "In object-oriented programming, A class defines the properties that objects of that class will have. An object is an instance of a class that contains its own data."
   ]
  },
  {
   "cell_type": "code",
   "execution_count": 1,
   "id": "ce8acc5b-6da2-44c5-9cde-9af93f93cce8",
   "metadata": {},
   "outputs": [
    {
     "name": "stdin",
     "output_type": "stream",
     "text": [
      " 15\n",
      " 24\n"
     ]
    }
   ],
   "source": [
    "# For Example,\n",
    "\n",
    "a = int(input(''))\n",
    "b = int(input(''))\n",
    "\n",
    "class area :\n",
    "    \n",
    "    def square (self) :\n",
    "        print (a**2)\n",
    "    \n",
    "    def rectangle (self) :\n",
    "        print(a*b)\n",
    "        \n",
    "obj_of_area = area() "
   ]
  },
  {
   "cell_type": "code",
   "execution_count": 2,
   "id": "70c0d3a5-c114-4a62-b7e2-0834196af26f",
   "metadata": {},
   "outputs": [
    {
     "name": "stdout",
     "output_type": "stream",
     "text": [
      "225\n"
     ]
    }
   ],
   "source": [
    "obj_of_area.square()"
   ]
  },
  {
   "cell_type": "code",
   "execution_count": 3,
   "id": "e38e4aa4-ad50-422b-9b1a-66feea0c8a61",
   "metadata": {},
   "outputs": [
    {
     "name": "stdout",
     "output_type": "stream",
     "text": [
      "360\n"
     ]
    }
   ],
   "source": [
    "obj_of_area.rectangle()"
   ]
  },
  {
   "cell_type": "code",
   "execution_count": null,
   "id": "606d6428-bac1-477c-97b4-9fc96dfeaf97",
   "metadata": {},
   "outputs": [],
   "source": []
  },
  {
   "cell_type": "markdown",
   "id": "a940d072-3997-45a8-9066-8a214adb7b29",
   "metadata": {},
   "source": [
    "# 2. Name the four pillars of OOPs."
   ]
  },
  {
   "cell_type": "markdown",
   "id": "0c737935-b4a1-4d24-9f65-5c94acae2167",
   "metadata": {},
   "source": [
    "Ans. There are four pillars of the Oops concept.\n",
    "\n",
    "1. Polymorphism : An entity that can be used in different ways in different circumstances is called polymorphism.\n",
    "\n",
    "2. Encapsulation : Encapsulation is a way of restricting the data inside a method.\n",
    "\n",
    "3. Inheritance : Inheritance is a way to use the method(property) of one class in another class.\n",
    "\n",
    "4. Abstraction : Abstraction is a process of hiding unnecessary information from the user. Which is achieved with the help of classmethod decorator and class ABC."
   ]
  },
  {
   "cell_type": "markdown",
   "id": "b0ad406d-91f4-4838-b81e-7090b4505a94",
   "metadata": {},
   "source": [
    "# 3. Explain why the __init__() function is used. Give a suitable example."
   ]
  },
  {
   "cell_type": "markdown",
   "id": "e74c003b-1731-4e75-9931-2518872246bb",
   "metadata": {},
   "source": [
    "Ans. \n",
    "\n",
    "__init__ () function is a constructor that is responsible for getting the data you provide."
   ]
  },
  {
   "cell_type": "code",
   "execution_count": 4,
   "id": "a11c5a1b-4d10-4c4e-b969-48e1cfdfeead",
   "metadata": {},
   "outputs": [],
   "source": [
    "# For Example,\n",
    "\n",
    "class medicine :\n",
    "    \n",
    "    def __init__ (self, name, ingredients, what_works) :\n",
    "        self.name = name\n",
    "        self.ingredients = ingredients\n",
    "        self.what_works = what_works\n",
    "        \n",
    "        \n",
    "    def show_medicine_details (self) :\n",
    "        print(self.name, self.ingredients, self.what_works)"
   ]
  },
  {
   "cell_type": "code",
   "execution_count": 5,
   "id": "56c090fa-8bda-4526-a2f5-186eba7cf3b7",
   "metadata": {},
   "outputs": [],
   "source": [
    "eye_drop = medicine('tear gel', ['Boric Acid, Calcium Chloride, Magnesium Chloride, Potassium Chloride, Purified Water, Sodium Borate, Sodium Chloride, Sodium Chlorite'], 'treat dryness of the eye due to exposure to wind or sun')"
   ]
  },
  {
   "cell_type": "code",
   "execution_count": 6,
   "id": "cfc3f751-1de9-4d24-b271-54560dd87b24",
   "metadata": {},
   "outputs": [
    {
     "data": {
      "text/plain": [
       "'tear gel'"
      ]
     },
     "execution_count": 6,
     "metadata": {},
     "output_type": "execute_result"
    }
   ],
   "source": [
    "eye_drop.name"
   ]
  },
  {
   "cell_type": "code",
   "execution_count": 7,
   "id": "0721ad4d-bc0e-4246-9962-95c819e7ca47",
   "metadata": {},
   "outputs": [
    {
     "data": {
      "text/plain": [
       "['Boric Acid, Calcium Chloride, Magnesium Chloride, Potassium Chloride, Purified Water, Sodium Borate, Sodium Chloride, Sodium Chlorite']"
      ]
     },
     "execution_count": 7,
     "metadata": {},
     "output_type": "execute_result"
    }
   ],
   "source": [
    "eye_drop.ingredients"
   ]
  },
  {
   "cell_type": "code",
   "execution_count": 8,
   "id": "7a113f5a-c7dc-4bda-a8e8-9d925aabc168",
   "metadata": {},
   "outputs": [
    {
     "data": {
      "text/plain": [
       "'treat dryness of the eye due to exposure to wind or sun'"
      ]
     },
     "execution_count": 8,
     "metadata": {},
     "output_type": "execute_result"
    }
   ],
   "source": [
    "eye_drop.what_works"
   ]
  },
  {
   "cell_type": "code",
   "execution_count": null,
   "id": "ab0f7f31-a893-4b7c-bd52-dd02473c3b15",
   "metadata": {},
   "outputs": [],
   "source": []
  },
  {
   "cell_type": "markdown",
   "id": "5af34283-8bd3-4813-912b-214b39d62939",
   "metadata": {},
   "source": [
    "# 4. Why self is used in OOPs?"
   ]
  },
  {
   "cell_type": "markdown",
   "id": "b453ccf2-a4db-4cc9-856e-f499f7a53048",
   "metadata": {},
   "source": [
    "Ans. \n",
    "\n",
    "Self is used to link the method written inside the class. Which helps to execute the method by the class."
   ]
  },
  {
   "cell_type": "code",
   "execution_count": null,
   "id": "34b48254-cda8-45fe-9f6c-ec4b60e6abac",
   "metadata": {},
   "outputs": [],
   "source": []
  },
  {
   "cell_type": "markdown",
   "id": "fbdfeca9-02d4-4b5e-aeb4-cbf4740ff186",
   "metadata": {},
   "source": [
    "# 5. What is inheritance? Give an example for each type of inheritance."
   ]
  },
  {
   "cell_type": "markdown",
   "id": "afca210d-8536-4fde-adbd-9728df5e01cc",
   "metadata": {},
   "source": [
    "Ans.\n",
    "\n",
    "Inheritance is a way to use the method(property) of one class in another class.\n",
    "\n",
    "There are three types of inheritance\n",
    "1. Single Inheritance allows only one class to inherit the properties of the base class.\n",
    "\n",
    "2. Multiple Inheritance allows inheriting the properties from more than one base class.\n",
    "\n",
    "3. Multilevel inheritance allows more than one class to inherit the properties of a base class, which in turn becomes the base class for later classes by inheriting the properties of the base class."
   ]
  },
  {
   "cell_type": "code",
   "execution_count": 10,
   "id": "949a7bcd-faed-4eb9-9796-aa8954ff4f9c",
   "metadata": {},
   "outputs": [],
   "source": [
    "# Single Inheritance Example,\n",
    "\n",
    "class company_emp : \n",
    "       \n",
    "    def __init__(self, Name, Id): \n",
    "        self.Name = Name \n",
    "        self.Id = Id\n",
    "   \n",
    "    def Employee_Details(self): \n",
    "        return self.Id , self.Name\n",
    "    \n",
    "class check_existing_employee (company_emp) :\n",
    "    \n",
    "    def find_emp (self) :\n",
    "    \n",
    "        if self.Id == 110 :\n",
    "            print('Company Employee')      \n",
    "        else:\n",
    "            print('Not a company employee')"
   ]
  },
  {
   "cell_type": "code",
   "execution_count": 11,
   "id": "3bf3e57b-07b6-4372-a837-2b9abd81b78a",
   "metadata": {},
   "outputs": [],
   "source": [
    "obj = check_existing_employee('Ajay', 110)"
   ]
  },
  {
   "cell_type": "code",
   "execution_count": 12,
   "id": "502ccd12-2997-460c-b1ba-dafa3689b509",
   "metadata": {},
   "outputs": [
    {
     "data": {
      "text/plain": [
       "(110, 'Ajay')"
      ]
     },
     "execution_count": 12,
     "metadata": {},
     "output_type": "execute_result"
    }
   ],
   "source": [
    "obj.Employee_Details()"
   ]
  },
  {
   "cell_type": "code",
   "execution_count": 13,
   "id": "d7a2f499-c642-41fb-adb7-9c195497d9da",
   "metadata": {},
   "outputs": [
    {
     "name": "stdout",
     "output_type": "stream",
     "text": [
      "Company Employee\n"
     ]
    }
   ],
   "source": [
    "obj.find_emp()"
   ]
  },
  {
   "cell_type": "code",
   "execution_count": null,
   "id": "f03e6fd5-754d-4798-b80d-74eb804b9730",
   "metadata": {},
   "outputs": [],
   "source": []
  },
  {
   "cell_type": "code",
   "execution_count": 14,
   "id": "dbf09494-7b90-47c7-b0b8-1f6386925790",
   "metadata": {},
   "outputs": [],
   "source": [
    "# Multiple Inheritance Example,\n",
    "\n",
    "class grocery_items :\n",
    "    \n",
    "    def chocolate (self) :\n",
    "        return 'chocolate is a food product made from ground-roasted cocoa beans'\n",
    "        \n",
    "    def biscuit (self) :\n",
    "        return 'biscuit is a flour-based food products'\n",
    "        \n",
    "    def flour (self) :\n",
    "        return 'a product containing finely ground wheat'\n",
    "        \n",
    "        \n",
    "class dairy_products :\n",
    "    \n",
    "    def milk (self) :\n",
    "        return 'milk is a liquid food'\n",
    "        \n",
    "    def curd (self) :\n",
    "        return 'condensed milk casein free fraction'\n",
    "        \n",
    "\n",
    "class grocery_store (grocery_items, dairy_products) :\n",
    "    pass\n",
    "    "
   ]
  },
  {
   "cell_type": "code",
   "execution_count": 15,
   "id": "2bd0a6f7-0433-48b7-8e6e-0a8a8893761a",
   "metadata": {},
   "outputs": [],
   "source": [
    "obj_grocery_store = grocery_store()"
   ]
  },
  {
   "cell_type": "code",
   "execution_count": 16,
   "id": "52b31154-d866-4935-8621-5ac6228dc555",
   "metadata": {},
   "outputs": [
    {
     "data": {
      "text/plain": [
       "'biscuit is a flour-based food products'"
      ]
     },
     "execution_count": 16,
     "metadata": {},
     "output_type": "execute_result"
    }
   ],
   "source": [
    "obj_grocery_store.biscuit()"
   ]
  },
  {
   "cell_type": "code",
   "execution_count": 17,
   "id": "5a907cac-d4a0-4b6f-a0a4-426d15cd75bc",
   "metadata": {},
   "outputs": [
    {
     "data": {
      "text/plain": [
       "'chocolate is a food product made from ground-roasted cocoa beans'"
      ]
     },
     "execution_count": 17,
     "metadata": {},
     "output_type": "execute_result"
    }
   ],
   "source": [
    "obj_grocery_store.chocolate()"
   ]
  },
  {
   "cell_type": "code",
   "execution_count": 18,
   "id": "79242fb8-71ce-4b93-890a-05715359f86e",
   "metadata": {},
   "outputs": [
    {
     "data": {
      "text/plain": [
       "'condensed milk casein free fraction'"
      ]
     },
     "execution_count": 18,
     "metadata": {},
     "output_type": "execute_result"
    }
   ],
   "source": [
    "obj_grocery_store.curd()"
   ]
  },
  {
   "cell_type": "code",
   "execution_count": null,
   "id": "42ca4d34-a4a8-4d5f-a5d2-ae996f2d9dcb",
   "metadata": {},
   "outputs": [],
   "source": []
  },
  {
   "cell_type": "code",
   "execution_count": 30,
   "id": "cffde26f-50e1-4213-83f7-b0549bc24d82",
   "metadata": {},
   "outputs": [],
   "source": [
    "# Multilevel Inheritance Example,\n",
    "\n",
    "class school_name :\n",
    "    \n",
    "    def name_of_school (self) :\n",
    "        return 'gyan ganga high school'\n",
    "    \n",
    "    \n",
    "class programme_offered (school_name) :\n",
    "    \n",
    "    def school_programme_offered (self) :\n",
    "        return 'Nursery to 12th'\n",
    "    \n",
    "\n",
    "class affliation (programme_offered) :\n",
    "    \n",
    "    def affiliated_by (self) :\n",
    "        return 'CBSE Board'\n",
    "    \n",
    "    \n",
    "class certification (affliation) :\n",
    "    \n",
    "    def certified_by (self) :\n",
    "        return 'NAAC'\n",
    "    \n",
    "    \n",
    "class school_details (certification) :\n",
    "    \n",
    "    def all_school_details (self) :\n",
    "        pass\n",
    "    \n"
   ]
  },
  {
   "cell_type": "code",
   "execution_count": 20,
   "id": "9d118824-eeb7-4b11-b0f1-3d4a5298ffeb",
   "metadata": {},
   "outputs": [],
   "source": [
    "az = school_details()"
   ]
  },
  {
   "cell_type": "code",
   "execution_count": 21,
   "id": "dc2660af-0341-46eb-a424-cc75adfd463f",
   "metadata": {},
   "outputs": [
    {
     "data": {
      "text/plain": [
       "'gyan ganga high school'"
      ]
     },
     "execution_count": 21,
     "metadata": {},
     "output_type": "execute_result"
    }
   ],
   "source": [
    "az.name_of_school()"
   ]
  },
  {
   "cell_type": "code",
   "execution_count": 22,
   "id": "225863da-30bd-49d6-b5ef-6edcdc3ccadb",
   "metadata": {},
   "outputs": [
    {
     "data": {
      "text/plain": [
       "'CBSE Board'"
      ]
     },
     "execution_count": 22,
     "metadata": {},
     "output_type": "execute_result"
    }
   ],
   "source": [
    "az.affiliated_by()"
   ]
  },
  {
   "cell_type": "code",
   "execution_count": 23,
   "id": "abe550a8-211a-4f7b-ae3e-7d8cd51eb8bc",
   "metadata": {},
   "outputs": [
    {
     "data": {
      "text/plain": [
       "'NAAC'"
      ]
     },
     "execution_count": 23,
     "metadata": {},
     "output_type": "execute_result"
    }
   ],
   "source": [
    "az.certified_by()"
   ]
  },
  {
   "cell_type": "code",
   "execution_count": 24,
   "id": "8ab3c546-587f-4e74-9190-367010ed51cd",
   "metadata": {},
   "outputs": [
    {
     "data": {
      "text/plain": [
       "'NAAC'"
      ]
     },
     "execution_count": 24,
     "metadata": {},
     "output_type": "execute_result"
    }
   ],
   "source": [
    "az.certified_by()"
   ]
  },
  {
   "cell_type": "code",
   "execution_count": null,
   "id": "5e2bd1fa-c18e-4420-9bc9-748a660454a4",
   "metadata": {},
   "outputs": [],
   "source": []
  }
 ],
 "metadata": {
  "kernelspec": {
   "display_name": "Python 3 (ipykernel)",
   "language": "python",
   "name": "python3"
  },
  "language_info": {
   "codemirror_mode": {
    "name": "ipython",
    "version": 3
   },
   "file_extension": ".py",
   "mimetype": "text/x-python",
   "name": "python",
   "nbconvert_exporter": "python",
   "pygments_lexer": "ipython3",
   "version": "3.10.8"
  }
 },
 "nbformat": 4,
 "nbformat_minor": 5
}
